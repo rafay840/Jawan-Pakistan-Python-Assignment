{
 "cells": [
  {
   "cell_type": "code",
   "execution_count": 3,
   "metadata": {},
   "outputs": [
    {
     "name": "stdout",
     "output_type": "stream",
     "text": [
      "Twinkle, twinkle, little star,\n",
      "         How I wonder what you are!\n",
      "                 Up above the world so high,\n",
      "                 Like a diamond in the sky.\n",
      "Twinkle, twinkle, little star,\n",
      "         How I wonder what you are!\n"
     ]
    }
   ],
   "source": [
    "print(\"Twinkle, twinkle, little star,\");\n",
    "print('         How I wonder what you are!' )\n",
    "print(\"                 Up above the world so high,\")\n",
    "print(\"                 Like a diamond in the sky.\")\n",
    "print(\"Twinkle, twinkle, little star,\");\n",
    "print('         How I wonder what you are!' )"
   ]
  },
  {
   "cell_type": "code",
   "execution_count": 4,
   "metadata": {},
   "outputs": [
    {
     "name": "stdout",
     "output_type": "stream",
     "text": [
      "Python version is  3.8.8 (default, Apr 13 2021, 19:58:26) \n",
      "[GCC 7.3.0]\n"
     ]
    }
   ],
   "source": [
    "\n",
    "import sys\n",
    "print(\"Python version is \" , sys.version);"
   ]
  },
  {
   "cell_type": "code",
   "execution_count": 11,
   "metadata": {},
   "outputs": [
    {
     "name": "stdout",
     "output_type": "stream",
     "text": [
      "Current Date is  2021-10-23\n",
      "Current Time is  01:45:44\n"
     ]
    }
   ],
   "source": [
    "import datetime\n",
    "from datetime import date\n",
    "from datetime import time\n",
    "print(\"Current Date is \", date.today())\n",
    "print(\"Current Time is \", datetime.datetime.now().strftime(\"%H:%M:%S\"));"
   ]
  },
  {
   "cell_type": "code",
   "execution_count": 2,
   "metadata": {},
   "outputs": [
    {
     "name": "stdout",
     "output_type": "stream",
     "text": [
      "314.1592653589793\n"
     ]
    }
   ],
   "source": [
    "import math\n",
    "radius = int(input(\"Enter Radius Here\"))\n",
    "area = (math.pi * radius**2)\n",
    "print(area);"
   ]
  },
  {
   "cell_type": "code",
   "execution_count": 3,
   "metadata": {},
   "outputs": [
    {
     "name": "stdout",
     "output_type": "stream",
     "text": [
      "Saif   Rafay \n"
     ]
    }
   ],
   "source": [
    "first_name = input(\"Enter Your First Name\");\n",
    "last_name = input(\"Enter Your Last Name\");\n",
    "seperator = \" \"\n",
    "print(last_name , seperator , first_name)"
   ]
  },
  {
   "cell_type": "code",
   "execution_count": 4,
   "metadata": {},
   "outputs": [
    {
     "name": "stdout",
     "output_type": "stream",
     "text": [
      "The Sum of  10  and  20  is 30\n"
     ]
    }
   ],
   "source": [
    "num_1 = int(input(\"Enter First Number\"))\n",
    "num_2 = int(input(\"Enter Second Number\"))\n",
    "Sum = num_1 + num_2\n",
    "print(\"The Sum of \", num_1 , \" and \" , num_2 , \" is\" , Sum)"
   ]
  },
  {
   "cell_type": "code",
   "execution_count": 5,
   "metadata": {},
   "outputs": [
    {
     "name": "stdout",
     "output_type": "stream",
     "text": [
      "Congratulations Your Got B+\n"
     ]
    }
   ],
   "source": [
    "English = float(input(\"Enter Your English Marks\"))\n",
    "Islamiyat = float(input(\"Enter Your Islamiyat Marks\"))\n",
    "Maths = float(input(\"Enter Your Maths Marks\"))\n",
    "Chemistry = float(input(\"Enter Your Chemistry Marks\"))\n",
    "Physics = float(input(\"Enter Your Physics Marks\"))\n",
    "Total_marks = 500\n",
    "Sum = English + Islamiyat + Maths + Chemistry + Physics\n",
    "Percentage = (Sum/Total_marks)*100\n",
    "if(English<0 or Islamiyat<0 or Maths<0 or Chemistry<0 or Physics<0 or Percentage<0):\n",
    "    print(\"ERROR! check your score\")\n",
    "elif(Percentage>100):\n",
    "    print(\"error in percentage check your score\")\n",
    "elif(Percentage>=90 and Percentage<=100):\n",
    "    print(\"Congratulations You Got A+\")\n",
    "elif(Percentage<90 and Percentage>=80):\n",
    "    print(\"Congratulations Your Got A\")\n",
    "elif(Percentage<80 and Percentage>=70):\n",
    "    print(\"Congratulations Your Got B+\")\n",
    "elif(Percentage<70 and Percentage>=60):\n",
    "    print(\"Congratulations Your Got B\")\n",
    "elif(Percentage<60 and Percentage>=50):\n",
    "    print(\"Congratulations Your Got C\")\n",
    "elif(Percentage<50 and Percentage>=40):\n",
    "    print(\"Congratulations Your Got D\")\n",
    "else:\n",
    "    print(\"Sorry You are Fail Try Again\");"
   ]
  },
  {
   "cell_type": "code",
   "execution_count": 8,
   "metadata": {},
   "outputs": [
    {
     "name": "stdout",
     "output_type": "stream",
     "text": [
      "The number  3  is an Odd Number\n"
     ]
    }
   ],
   "source": [
    "num = int(input(\"Enter Your Number\"))\n",
    "if(num%2 == 0):\n",
    "    print(\"The number \",num, \" is is an Even Number\")\n",
    "else:\n",
    "    print(\"The number \",num, \" is an Odd Number\")\n"
   ]
  },
  {
   "cell_type": "code",
   "execution_count": 1,
   "metadata": {},
   "outputs": [
    {
     "name": "stdout",
     "output_type": "stream",
     "text": [
      "The Length of this list is  5\n"
     ]
    }
   ],
   "source": [
    "num = [1,2,3,4,5]\n",
    "print(\"The Length of this list is \", len(num))"
   ]
  },
  {
   "cell_type": "code",
   "execution_count": 7,
   "metadata": {},
   "outputs": [
    {
     "name": "stdout",
     "output_type": "stream",
     "text": [
      "The Sum is  15\n"
     ]
    }
   ],
   "source": [
    "\n",
    "Sum = 0\n",
    "for i in [1,2,3,4,5]:\n",
    "    Sum = Sum + i\n",
    "print(\"The Sum is \", Sum)\n",
    "\n"
   ]
  },
  {
   "cell_type": "code",
   "execution_count": 4,
   "metadata": {},
   "outputs": [
    {
     "name": "stdout",
     "output_type": "stream",
     "text": [
      " The Largest Number is  90\n"
     ]
    }
   ],
   "source": [
    "largest = None\n",
    "for i in [90,86,75,46,50]:\n",
    "    if largest is None or largest < i:\n",
    "        largest = i\n",
    "print(\" The Largest Number is \", largest)"
   ]
  },
  {
   "cell_type": "code",
   "execution_count": 6,
   "metadata": {},
   "outputs": [
    {
     "name": "stdout",
     "output_type": "stream",
     "text": [
      "The Number Which is less than 5 are  1\n",
      "The Number Which is less than 5 are  1\n",
      "The Number Which is less than 5 are  2\n",
      "The Number Which is less than 5 are  3\n",
      "done!\n"
     ]
    }
   ],
   "source": [
    "a = [1,1,2,3,5,8,13,21,34,55,89]\n",
    "for i in a:\n",
    "    if(i<5):\n",
    "        print(\"The Number Which is less than 5 are \", i)\n",
    "print(\"done!\")"
   ]
  }
 ],
 "metadata": {
  "interpreter": {
   "hash": "2beb42f9f335554ea305b622931c09febb7dbb62b21e5a6439344a0ad5feecdc"
  },
  "kernelspec": {
   "display_name": "Python 3.8.8 64-bit ('base': conda)",
   "name": "python3"
  },
  "language_info": {
   "codemirror_mode": {
    "name": "ipython",
    "version": 3
   },
   "file_extension": ".py",
   "mimetype": "text/x-python",
   "name": "python",
   "nbconvert_exporter": "python",
   "pygments_lexer": "ipython3",
   "version": "3.8.8"
  },
  "orig_nbformat": 4
 },
 "nbformat": 4,
 "nbformat_minor": 2
}
