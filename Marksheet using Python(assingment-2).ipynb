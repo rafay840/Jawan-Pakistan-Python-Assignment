{
 "cells": [
  {
   "cell_type": "code",
   "execution_count": 21,
   "id": "865a849c",
   "metadata": {},
   "outputs": [
    {
     "name": "stdout",
     "output_type": "stream",
     "text": [
      "Congratulations Your Got B\n"
     ]
    }
   ],
   "source": [
    "English = 70\n",
    "Islamiyat = 60\n",
    "Maths = 50\n",
    "Total_marks = 300\n",
    "Sum = English + Islamiyat + Maths\n",
    "Percentage = (Sum/Total_marks)*100\n",
    "if(English<0 or Islamiyat<0 or Maths<0 or Percentage<0):\n",
    "    print(\"ERROR! check your score\")\n",
    "elif(Percentage>100):\n",
    "    print(\"error in percentage check your score\")\n",
    "elif(Percentage>=90 and Percentage<=100):\n",
    "    print(\"Congratulations You Got A+\")\n",
    "elif(Percentage<90 and Percentage>=80):\n",
    "    print(\"Congratulations Your Got A\")\n",
    "elif(Percentage<80 and Percentage>=70):\n",
    "    print(\"Congratulations Your Got B+\")\n",
    "elif(Percentage<70 and Percentage>=60):\n",
    "    print(\"Congratulations Your Got B\")\n",
    "elif(Percentage<60 and Percentage>=50):\n",
    "    print(\"Congratulations Your Got C\")\n",
    "elif(Percentage<50 and Percentage>=40):\n",
    "    print(\"Congratulations Your Got D\")\n",
    "else:\n",
    "    print(\"Sorry You are Fail Try Again\");\n",
    "\n",
    "\n",
    "\n"
   ]
  },
  {
   "cell_type": "code",
   "execution_count": null,
   "id": "57ea0311",
   "metadata": {},
   "outputs": [],
   "source": []
  }
 ],
 "metadata": {
  "kernelspec": {
   "display_name": "Python 3",
   "language": "python",
   "name": "python3"
  },
  "language_info": {
   "codemirror_mode": {
    "name": "ipython",
    "version": 3
   },
   "file_extension": ".py",
   "mimetype": "text/x-python",
   "name": "python",
   "nbconvert_exporter": "python",
   "pygments_lexer": "ipython3",
   "version": "3.8.8"
  }
 },
 "nbformat": 4,
 "nbformat_minor": 5
}
